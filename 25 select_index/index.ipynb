{
 "cells": [
  {
   "cell_type": "code",
   "execution_count": 2,
   "id": "0a42bff1",
   "metadata": {},
   "outputs": [],
   "source": [
    "import torch"
   ]
  },
  {
   "cell_type": "code",
   "execution_count": 3,
   "id": "b98d083f",
   "metadata": {},
   "outputs": [],
   "source": [
    "a=torch.rand(4,4)\n",
    "b=torch.rand(4,4)\n",
    "c=torch.rand(2,2)"
   ]
  },
  {
   "cell_type": "code",
   "execution_count": 4,
   "id": "7d7287c9",
   "metadata": {},
   "outputs": [
    {
     "name": "stdout",
     "output_type": "stream",
     "text": [
      "tensor([[0.6344, 0.6355, 0.0711, 0.5574],\n",
      "        [0.5687, 0.9394, 0.6344, 0.3757],\n",
      "        [0.0485, 0.5267, 0.6287, 0.0268],\n",
      "        [0.7314, 0.3236, 0.9564, 0.6042]])\n",
      "tensor([[0.6053, 0.3222, 0.6831, 0.1237],\n",
      "        [0.1686, 0.6469, 0.3500, 0.7743],\n",
      "        [0.8509, 0.4268, 0.3531, 0.3599],\n",
      "        [0.6420, 0.0966, 0.0741, 0.1882]])\n",
      "tensor([[0.0273, 0.2676],\n",
      "        [0.8879, 0.9295]])\n"
     ]
    }
   ],
   "source": [
    "print(a)\n",
    "print(b)\n",
    "print(c)"
   ]
  },
  {
   "cell_type": "code",
   "execution_count": 5,
   "id": "8a6e6bac",
   "metadata": {},
   "outputs": [
    {
     "data": {
      "text/plain": [
       "tensor([[0.6344, 0.6355, 0.6831, 0.5574],\n",
       "        [0.5687, 0.9394, 0.6344, 0.7743],\n",
       "        [0.8509, 0.5267, 0.6287, 0.3599],\n",
       "        [0.7314, 0.0966, 0.9564, 0.6042]])"
      ]
     },
     "execution_count": 5,
     "metadata": {},
     "output_type": "execute_result"
    }
   ],
   "source": [
    "out=torch.where(a>0.5,a,b)\n",
    "out"
   ]
  },
  {
   "cell_type": "markdown",
   "id": "bf55a32d",
   "metadata": {},
   "source": [
    "torch.index_select"
   ]
  },
  {
   "cell_type": "code",
   "execution_count": 6,
   "id": "bb0625f5",
   "metadata": {},
   "outputs": [
    {
     "data": {
      "text/plain": [
       "tensor([[0.6344, 0.6355, 0.0711, 0.5574],\n",
       "        [0.7314, 0.3236, 0.9564, 0.6042],\n",
       "        [0.0485, 0.5267, 0.6287, 0.0268]])"
      ]
     },
     "execution_count": 6,
     "metadata": {},
     "output_type": "execute_result"
    }
   ],
   "source": [
    "#取第0，3，2行\n",
    "torch.index_select(a,dim=0,index=torch.tensor([0,3,2]))\n"
   ]
  },
  {
   "cell_type": "markdown",
   "id": "3b6dcb2c",
   "metadata": {},
   "source": [
    "First, torch.linspace(1, 16, steps=16) generates a 1-dimensional tensor containing 16 values equally spaced between 1 and 16 (inclusive). This creates the sequence [1, 2, 3, ..., 16].\n",
    "\n",
    "Then, the .view(4, 4) method reshapes this 1D tensor into a 2D tensor with 4 rows and 4 columns. The result is a 4x4 matrix where the values are arranged in row-major order:"
   ]
  },
  {
   "cell_type": "code",
   "execution_count": 7,
   "id": "5679b547",
   "metadata": {},
   "outputs": [
    {
     "data": {
      "text/plain": [
       "tensor([[ 1.,  2.,  3.,  4.],\n",
       "        [ 5.,  6.,  7.,  8.],\n",
       "        [ 9., 10., 11., 12.],\n",
       "        [13., 14., 15., 16.]])"
      ]
     },
     "execution_count": 7,
     "metadata": {},
     "output_type": "execute_result"
    }
   ],
   "source": [
    "d=torch.linspace(1, 16, steps=16).view(4, 4)\n",
    "d"
   ]
  },
  {
   "cell_type": "markdown",
   "id": "6ce3aeff",
   "metadata": {},
   "source": [
    "https://pytorch.org/docs/stable/generated/torch.gather.html\n",
    "解释：\n",
    "https://stackoverflow.com/questions/50999977/what-does-gather-do-in-pytorch-in-layman-terms"
   ]
  },
  {
   "cell_type": "code",
   "execution_count": 8,
   "id": "3f6737d1",
   "metadata": {},
   "outputs": [
    {
     "data": {
      "text/plain": [
       "tensor([[ 1.,  6.,  7.,  8.],\n",
       "        [ 1.,  6., 11., 12.],\n",
       "        [ 1.,  6., 15., 16.]])"
      ]
     },
     "execution_count": 8,
     "metadata": {},
     "output_type": "execute_result"
    }
   ],
   "source": [
    "e=torch.gather(d,dim=0,index=torch.tensor([[0,1,1,1],\n",
    "                                           [0,1,2,2],\n",
    "                                           [0,1,3,3]\n",
    "                                           ]))\n",
    "e"
   ]
  },
  {
   "cell_type": "code",
   "execution_count": 9,
   "id": "c5a4013c",
   "metadata": {},
   "outputs": [
    {
     "data": {
      "text/plain": [
       "torch.Size([3, 4])"
      ]
     },
     "execution_count": 9,
     "metadata": {},
     "output_type": "execute_result"
    }
   ],
   "source": [
    "e.shape"
   ]
  },
  {
   "cell_type": "markdown",
   "id": "97121f5b",
   "metadata": {},
   "source": [
    "torch.mask"
   ]
  },
  {
   "cell_type": "code",
   "execution_count": 10,
   "id": "7cdc9c52",
   "metadata": {},
   "outputs": [
    {
     "data": {
      "text/plain": [
       "tensor([[False, False, False, False],\n",
       "        [False, False, False, False],\n",
       "        [ True,  True,  True,  True],\n",
       "        [ True,  True,  True,  True]])"
      ]
     },
     "execution_count": 10,
     "metadata": {},
     "output_type": "execute_result"
    }
   ],
   "source": [
    "mask=torch.gt(d,8)\n",
    "mask\n",
    "# torch.masked_select(d,)"
   ]
  },
  {
   "cell_type": "code",
   "execution_count": 11,
   "id": "1947b776",
   "metadata": {},
   "outputs": [
    {
     "data": {
      "text/plain": [
       "tensor([[ 1.,  2.,  3.,  4.],\n",
       "        [ 5.,  6.,  7.,  8.],\n",
       "        [ 9., 10., 11., 12.],\n",
       "        [13., 14., 15., 16.]])"
      ]
     },
     "execution_count": 11,
     "metadata": {},
     "output_type": "execute_result"
    }
   ],
   "source": [
    "d"
   ]
  },
  {
   "cell_type": "code",
   "execution_count": 12,
   "id": "297f80e5",
   "metadata": {},
   "outputs": [
    {
     "data": {
      "text/plain": [
       "tensor([ 9., 10., 11., 12., 13., 14., 15., 16.])"
      ]
     },
     "execution_count": 12,
     "metadata": {},
     "output_type": "execute_result"
    }
   ],
   "source": [
    "torch.masked_select(d,mask)"
   ]
  },
  {
   "cell_type": "code",
   "execution_count": 13,
   "id": "dce15946",
   "metadata": {},
   "outputs": [
    {
     "data": {
      "text/plain": [
       "tensor([ 1., 16., 14., 11.])"
      ]
     },
     "execution_count": 13,
     "metadata": {},
     "output_type": "execute_result"
    }
   ],
   "source": [
    "#torch.take\n",
    "f=torch.take(d,index=torch.tensor([0,15,13,10]))\n",
    "f"
   ]
  },
  {
   "cell_type": "code",
   "execution_count": 14,
   "id": "74b52fb8",
   "metadata": {},
   "outputs": [
    {
     "data": {
      "text/plain": [
       "tensor([[0, 1],\n",
       "        [0, 2],\n",
       "        [1, 0],\n",
       "        [1, 1],\n",
       "        [1, 3]])"
      ]
     },
     "execution_count": 14,
     "metadata": {},
     "output_type": "execute_result"
    }
   ],
   "source": [
    "#torch.nonzero\n",
    "g=torch.tensor([[0,1,2,0],[2,3,0,1]])\n",
    "h=torch.nonzero(g)\n",
    "h"
   ]
  }
 ],
 "metadata": {
  "kernelspec": {
   "display_name": "torchproject",
   "language": "python",
   "name": "python3"
  },
  "language_info": {
   "codemirror_mode": {
    "name": "ipython",
    "version": 3
   },
   "file_extension": ".py",
   "mimetype": "text/x-python",
   "name": "python",
   "nbconvert_exporter": "python",
   "pygments_lexer": "ipython3",
   "version": "3.12.9"
  }
 },
 "nbformat": 4,
 "nbformat_minor": 5
}
