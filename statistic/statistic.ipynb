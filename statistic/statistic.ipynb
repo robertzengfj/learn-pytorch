{
 "cells": [
  {
   "cell_type": "code",
   "execution_count": 1,
   "id": "ff36fb94",
   "metadata": {},
   "outputs": [],
   "source": [
    "import torch"
   ]
  },
  {
   "cell_type": "code",
   "execution_count": 2,
   "id": "95cfd3a8",
   "metadata": {},
   "outputs": [
    {
     "data": {
      "text/plain": [
       "tensor([[0.0353, 0.6250],\n",
       "        [0.4666, 0.6279]])"
      ]
     },
     "execution_count": 2,
     "metadata": {},
     "output_type": "execute_result"
    }
   ],
   "source": [
    "a=torch.rand(2,2)\n",
    "a"
   ]
  },
  {
   "cell_type": "code",
   "execution_count": null,
   "id": "cb3585d4",
   "metadata": {},
   "outputs": [
    {
     "data": {
      "text/plain": [
       "tensor(0.4387)"
      ]
     },
     "execution_count": 3,
     "metadata": {},
     "output_type": "execute_result"
    }
   ],
   "source": [
    "torch.mean(a)"
   ]
  },
  {
   "cell_type": "code",
   "execution_count": 6,
   "id": "ed00f585",
   "metadata": {},
   "outputs": [
    {
     "data": {
      "text/plain": [
       "tensor([0.2510, 0.6264])"
      ]
     },
     "execution_count": 6,
     "metadata": {},
     "output_type": "execute_result"
    }
   ],
   "source": [
    "torch.mean(a,dim=0)"
   ]
  },
  {
   "cell_type": "code",
   "execution_count": null,
   "id": "539c55a3",
   "metadata": {},
   "outputs": [
    {
     "data": {
      "text/plain": [
       "tensor(1.7548)"
      ]
     },
     "execution_count": 4,
     "metadata": {},
     "output_type": "execute_result"
    }
   ],
   "source": [
    "torch.sum(a)"
   ]
  },
  {
   "cell_type": "code",
   "execution_count": 7,
   "id": "d15d94cd",
   "metadata": {},
   "outputs": [
    {
     "data": {
      "text/plain": [
       "tensor([0.5019, 1.2529])"
      ]
     },
     "execution_count": 7,
     "metadata": {},
     "output_type": "execute_result"
    }
   ],
   "source": [
    "torch.sum(a,dim=0)"
   ]
  },
  {
   "cell_type": "code",
   "execution_count": null,
   "id": "7b5026e9",
   "metadata": {},
   "outputs": [
    {
     "data": {
      "text/plain": [
       "tensor(0.0065)"
      ]
     },
     "execution_count": 5,
     "metadata": {},
     "output_type": "execute_result"
    }
   ],
   "source": [
    "#累积\n",
    "torch.prod(a)"
   ]
  },
  {
   "cell_type": "code",
   "execution_count": 8,
   "id": "b507371b",
   "metadata": {},
   "outputs": [
    {
     "data": {
      "text/plain": [
       "tensor([0.0165, 0.3924])"
      ]
     },
     "execution_count": 8,
     "metadata": {},
     "output_type": "execute_result"
    }
   ],
   "source": [
    "torch.prod(a,dim=0)"
   ]
  },
  {
   "cell_type": "markdown",
   "id": "e6a1be5b",
   "metadata": {},
   "source": [
    "arxmax, argmin打印的是维度上的索引值"
   ]
  },
  {
   "cell_type": "code",
   "execution_count": 9,
   "id": "38ff04b0",
   "metadata": {},
   "outputs": [
    {
     "data": {
      "text/plain": [
       "tensor(3)"
      ]
     },
     "execution_count": 9,
     "metadata": {},
     "output_type": "execute_result"
    }
   ],
   "source": [
    "torch.argmax(a)"
   ]
  },
  {
   "cell_type": "code",
   "execution_count": 10,
   "id": "7935eb5c",
   "metadata": {},
   "outputs": [
    {
     "data": {
      "text/plain": [
       "tensor([1, 1])"
      ]
     },
     "execution_count": 10,
     "metadata": {},
     "output_type": "execute_result"
    }
   ],
   "source": [
    "torch.argmax(a,dim=0)"
   ]
  },
  {
   "cell_type": "code",
   "execution_count": 11,
   "id": "a2dceaa4",
   "metadata": {},
   "outputs": [
    {
     "data": {
      "text/plain": [
       "tensor(0)"
      ]
     },
     "execution_count": 11,
     "metadata": {},
     "output_type": "execute_result"
    }
   ],
   "source": [
    "torch.argmin(a)"
   ]
  },
  {
   "cell_type": "code",
   "execution_count": 12,
   "id": "64ee3256",
   "metadata": {},
   "outputs": [
    {
     "data": {
      "text/plain": [
       "tensor([0, 0])"
      ]
     },
     "execution_count": 12,
     "metadata": {},
     "output_type": "execute_result"
    }
   ],
   "source": [
    "torch.argmin(a,dim=0)"
   ]
  },
  {
   "cell_type": "code",
   "execution_count": 14,
   "id": "143856d5",
   "metadata": {},
   "outputs": [
    {
     "data": {
      "text/plain": [
       "tensor(0.2793)"
      ]
     },
     "execution_count": 14,
     "metadata": {},
     "output_type": "execute_result"
    }
   ],
   "source": [
    "# 标准差\n",
    "torch.std(a)"
   ]
  },
  {
   "cell_type": "code",
   "execution_count": 15,
   "id": "bda583bc",
   "metadata": {},
   "outputs": [
    {
     "data": {
      "text/plain": [
       "tensor(0.0780)"
      ]
     },
     "execution_count": 15,
     "metadata": {},
     "output_type": "execute_result"
    }
   ],
   "source": [
    "# 方差\n",
    "torch.var(a)"
   ]
  },
  {
   "cell_type": "code",
   "execution_count": 16,
   "id": "6d559b24",
   "metadata": {},
   "outputs": [
    {
     "data": {
      "text/plain": [
       "tensor(0.4666)"
      ]
     },
     "execution_count": 16,
     "metadata": {},
     "output_type": "execute_result"
    }
   ],
   "source": [
    "# 中位数\n",
    "torch.median(a)"
   ]
  },
  {
   "cell_type": "markdown",
   "id": "21323ec4",
   "metadata": {},
   "source": [
    "torch.mode返回一个namedtuple（值、索引），其中值是给定维度dim中输入张量每行的模式值，即该行中最常出现的值，索引是找到的每个模式值的索引位置。\n"
   ]
  },
  {
   "cell_type": "code",
   "execution_count": 17,
   "id": "78b1ad63",
   "metadata": {},
   "outputs": [
    {
     "data": {
      "text/plain": [
       "torch.return_types.mode(\n",
       "values=tensor([0.0353, 0.4666]),\n",
       "indices=tensor([0, 0]))"
      ]
     },
     "execution_count": 17,
     "metadata": {},
     "output_type": "execute_result"
    }
   ],
   "source": [
    "torch.mode(a)"
   ]
  },
  {
   "cell_type": "markdown",
   "id": "c1eb1c9b",
   "metadata": {},
   "source": [
    "https://pytorch.org/docs/stable/generated/torch.histc.html\n",
    "直方图"
   ]
  },
  {
   "cell_type": "code",
   "execution_count": 20,
   "id": "f0fda873",
   "metadata": {},
   "outputs": [
    {
     "name": "stdout",
     "output_type": "stream",
     "text": [
      "tensor([[1.4735, 4.2930],\n",
      "        [2.4474, 0.3637]])\n"
     ]
    },
    {
     "data": {
      "text/plain": [
       "tensor([1., 1., 0., 1., 0., 1.])"
      ]
     },
     "execution_count": 20,
     "metadata": {},
     "output_type": "execute_result"
    }
   ],
   "source": [
    "b=torch.rand(2,2)*10\n",
    "print(b)\n",
    "torch.histc(b,6,0,0)"
   ]
  },
  {
   "cell_type": "markdown",
   "id": "f5169ae8",
   "metadata": {},
   "source": [
    "torch.bincount 打印每个数的出现频次，bincount只能处理一维的tensor"
   ]
  },
  {
   "cell_type": "code",
   "execution_count": 22,
   "id": "271483e7",
   "metadata": {},
   "outputs": [
    {
     "name": "stdout",
     "output_type": "stream",
     "text": [
      "tensor([8, 9, 0, 2, 1, 4, 2, 9, 8, 0])\n",
      "tensor([2, 1, 2, 0, 1, 0, 0, 0, 2, 2])\n"
     ]
    }
   ],
   "source": [
    "c=torch.randint(0,10,[10])\n",
    "print(c)\n",
    "print(torch.bincount(c, minlength=10))"
   ]
  }
 ],
 "metadata": {
  "kernelspec": {
   "display_name": "torchproject",
   "language": "python",
   "name": "python3"
  },
  "language_info": {
   "codemirror_mode": {
    "name": "ipython",
    "version": 3
   },
   "file_extension": ".py",
   "mimetype": "text/x-python",
   "name": "python",
   "nbconvert_exporter": "python",
   "pygments_lexer": "ipython3",
   "version": "3.12.9"
  }
 },
 "nbformat": 4,
 "nbformat_minor": 5
}
