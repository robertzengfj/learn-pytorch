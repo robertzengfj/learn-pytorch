{
 "cells": [
  {
   "cell_type": "code",
   "execution_count": 2,
   "id": "e5e0ce55",
   "metadata": {},
   "outputs": [],
   "source": [
    "import torch"
   ]
  },
  {
   "cell_type": "code",
   "execution_count": 8,
   "id": "3b5749d6",
   "metadata": {},
   "outputs": [
    {
     "name": "stdout",
     "output_type": "stream",
     "text": [
      "a: tensor([[0.6229, 0.4140, 0.1336],\n",
      "        [0.5600, 0.1523, 0.8041]])\n",
      "b: tensor([[0.9023, 0.7601, 0.9825],\n",
      "        [0.1966, 0.0446, 0.4453]])\n",
      "a+b tensor([[1.5253, 1.1740, 1.1160],\n",
      "        [0.7566, 0.1969, 1.2494]])\n",
      "a.add(b) tensor([[1.5253, 1.1740, 1.1160],\n",
      "        [0.7566, 0.1969, 1.2494]])\n",
      "torch.add(a,b) tensor([[1.5253, 1.1740, 1.1160],\n",
      "        [0.7566, 0.1969, 1.2494]])\n",
      "a: tensor([[0.6229, 0.4140, 0.1336],\n",
      "        [0.5600, 0.1523, 0.8041]])\n",
      "a.add_(b) tensor([[1.5253, 1.1740, 1.1160],\n",
      "        [0.7566, 0.1969, 1.2494]])\n",
      "a: tensor([[1.5253, 1.1740, 1.1160],\n",
      "        [0.7566, 0.1969, 1.2494]])\n"
     ]
    }
   ],
   "source": [
    "a=torch.rand(2,3)\n",
    "b=torch.rand(2,3)\n",
    "print(\"a:\",a)\n",
    "# print(a)\n",
    "print(\"b:\",b)\n",
    "#print(b)\n",
    "print(\"a+b\",a+b)\n",
    "\n",
    "print(\"a.add(b)\",a.add(b))\n",
    "print(\"torch.add(a,b)\",torch.add(a,b))\n",
    "print(\"a:\",a)\n",
    "print(\"a.add_(b)\",a.add_(b))\n",
    "print(\"a:\",a)\n"
   ]
  },
  {
   "cell_type": "code",
   "execution_count": 10,
   "id": "afc8508b",
   "metadata": {},
   "outputs": [
    {
     "name": "stdout",
     "output_type": "stream",
     "text": [
      "a-b tensor([[-0.2794, -0.3461, -0.8489],\n",
      "        [ 0.3634,  0.1077,  0.3588]])\n",
      "tensor([[-0.2794, -0.3461, -0.8489],\n",
      "        [ 0.3634,  0.1077,  0.3588]])\n",
      "a.sub(b) tensor([[-0.2794, -0.3461, -0.8489],\n",
      "        [ 0.3634,  0.1077,  0.3588]])\n",
      "a.sub_(b) tensor([[-0.2794, -0.3461, -0.8489],\n",
      "        [ 0.3634,  0.1077,  0.3588]])\n",
      "a: tensor([[-0.2794, -0.3461, -0.8489],\n",
      "        [ 0.3634,  0.1077,  0.3588]])\n"
     ]
    }
   ],
   "source": [
    "#sub\n",
    "print(\"a-b\",a-b)\n",
    "print(torch.sub(a,b))\n",
    "print(\"a.sub(b)\",a.sub(b))\n",
    "print(\"a.sub_(b)\",a.sub_(b))\n",
    "print(\"a:\",a)"
   ]
  },
  {
   "cell_type": "code",
   "execution_count": 11,
   "id": "2f7b05f6",
   "metadata": {},
   "outputs": [
    {
     "name": "stdout",
     "output_type": "stream",
     "text": [
      "a*b tensor([[-0.2521, -0.2630, -0.8340],\n",
      "        [ 0.0714,  0.0048,  0.1598]])\n",
      "tensor([[-0.2521, -0.2630, -0.8340],\n",
      "        [ 0.0714,  0.0048,  0.1598]])\n",
      "a.mul(b) tensor([[-0.2521, -0.2630, -0.8340],\n",
      "        [ 0.0714,  0.0048,  0.1598]])\n",
      "a.mul_(b) tensor([[-0.2521, -0.2630, -0.8340],\n",
      "        [ 0.0714,  0.0048,  0.1598]])\n",
      "a: tensor([[-0.2521, -0.2630, -0.8340],\n",
      "        [ 0.0714,  0.0048,  0.1598]])\n"
     ]
    }
   ],
   "source": [
    "## mul\n",
    "print(\"a*b\",a*b)\n",
    "print(torch.mul(a,b))\n",
    "print(\"a.mul(b)\",a.mul(b))\n",
    "print(\"a.mul_(b)\",a.mul_(b))    \n",
    "print(\"a:\",a)"
   ]
  },
  {
   "cell_type": "code",
   "execution_count": 12,
   "id": "816d0eeb",
   "metadata": {},
   "outputs": [
    {
     "name": "stdout",
     "output_type": "stream",
     "text": [
      "====div===\n",
      "a/b tensor([[-0.2794, -0.3461, -0.8489],\n",
      "        [ 0.3634,  0.1077,  0.3588]])\n",
      "tensor([[-0.2794, -0.3461, -0.8489],\n",
      "        [ 0.3634,  0.1077,  0.3588]])\n",
      "a.div(b) tensor([[-0.2794, -0.3461, -0.8489],\n",
      "        [ 0.3634,  0.1077,  0.3588]])\n",
      "a.div_(b) tensor([[-0.2794, -0.3461, -0.8489],\n",
      "        [ 0.3634,  0.1077,  0.3588]])\n",
      "a: tensor([[-0.2794, -0.3461, -0.8489],\n",
      "        [ 0.3634,  0.1077,  0.3588]])\n"
     ]
    }
   ],
   "source": [
    "print(\"====div===\")\n",
    "print(\"a/b\",a/b)\n",
    "print(torch.div(a,b))\n",
    "print(\"a.div(b)\",a.div(b))\n",
    "print(\"a.div_(b)\",a.div_(b))\n",
    "print(\"a:\",a)"
   ]
  },
  {
   "cell_type": "code",
   "execution_count": 13,
   "id": "6503d68c",
   "metadata": {},
   "outputs": [
    {
     "name": "stdout",
     "output_type": "stream",
     "text": [
      "====matmul===\n",
      "tensor([[1., 1.],\n",
      "        [1., 1.]])\n",
      "tensor([[1., 1.],\n",
      "        [1., 1.]])\n",
      "tensor([[1., 1.],\n",
      "        [1., 1.]])\n",
      "tensor([[1., 1.],\n",
      "        [1., 1.]])\n",
      "a: tensor([[1.],\n",
      "        [1.]])\n"
     ]
    }
   ],
   "source": [
    "###matrix mul\n",
    "print(\"====matmul===\")\n",
    "a=torch.ones(2,1)\n",
    "b=torch.ones(1,2)\n",
    "print(a @ b)\n",
    "print(a.matmul(b))\n",
    "print(torch.matmul(a,b))\n",
    "print(torch.mm(a,b))\n",
    "print(\"a:\",a)\n"
   ]
  },
  {
   "cell_type": "code",
   "execution_count": null,
   "id": "d82132ad",
   "metadata": {},
   "outputs": [
    {
     "name": "stdout",
     "output_type": "stream",
     "text": [
      "tensor([[[[1., 1., 1., 1.],\n",
      "          [1., 1., 1., 1.],\n",
      "          [1., 1., 1., 1.]],\n",
      "\n",
      "         [[1., 1., 1., 1.],\n",
      "          [1., 1., 1., 1.],\n",
      "          [1., 1., 1., 1.]]]])\n",
      "tensor([[[[1., 1., 1.],\n",
      "          [1., 1., 1.],\n",
      "          [1., 1., 1.],\n",
      "          [1., 1., 1.]],\n",
      "\n",
      "         [[1., 1., 1.],\n",
      "          [1., 1., 1.],\n",
      "          [1., 1., 1.],\n",
      "          [1., 1., 1.]]]])\n",
      "torch.Size([1, 2, 3, 3])\n"
     ]
    }
   ],
   "source": [
    "#必须保证最后两个维度能进行矩阵运算\n",
    "a=torch.ones(1,2,3,4)\n",
    "print(a)\n",
    "b=torch.ones(1,2,4,3)\n",
    "print(b)\n",
    "print(a.matmul(b).shape)"
   ]
  },
  {
   "cell_type": "code",
   "execution_count": 21,
   "id": "0cec398d",
   "metadata": {},
   "outputs": [
    {
     "name": "stdout",
     "output_type": "stream",
     "text": [
      "====power===\n",
      "a: tensor([1, 2])\n",
      "a size torch.Size([2])\n",
      "tensor([1, 8])\n",
      "tensor([1, 8])\n",
      "tensor([1, 8])\n",
      "a: tensor([1, 8])\n"
     ]
    }
   ],
   "source": [
    "##power\n",
    "print(\"====power===\")\n",
    "a=torch.tensor([1,2])\n",
    "print(\"a:\",a)\n",
    "print(\"a size\",a.size())\n",
    "print(torch.pow(a,3))\n",
    "print(a**3)\n",
    "print(a.pow_(3))\n",
    "print(\"a:\",a)\n",
    "\n"
   ]
  },
  {
   "cell_type": "code",
   "execution_count": 25,
   "id": "11d4b930",
   "metadata": {},
   "outputs": [
    {
     "name": "stdout",
     "output_type": "stream",
     "text": [
      "torch.FloatTensor\n",
      "tensor([2.7183, 7.3891])\n",
      "tensor([2.7183, 7.3891])\n",
      "tensor([  15.1543, 1618.1781])\n",
      "tensor([  15.1543, 1618.1781])\n",
      "a: tensor([  15.1543, 1618.1781])\n"
     ]
    }
   ],
   "source": [
    "#exp\n",
    "a=torch.tensor([1,2],dtype=torch.float32)\n",
    "print(a.type())\n",
    "print(torch.exp(a))\n",
    "print(torch.exp_(a))\n",
    "print(a.exp())\n",
    "print(a.exp_())\n",
    "print(\"a:\",a)"
   ]
  },
  {
   "cell_type": "code",
   "execution_count": 27,
   "id": "d9a0580a",
   "metadata": {},
   "outputs": [
    {
     "name": "stdout",
     "output_type": "stream",
     "text": [
      "tensor([2.3026, 0.6931])\n",
      "tensor([2.3026, 0.6931])\n",
      "tensor([ 0.8340, -0.3665])\n",
      "tensor([ 0.8340, -0.3665])\n"
     ]
    }
   ],
   "source": [
    "##log\n",
    "a=torch.tensor([10,2],dtype=torch.float32)\n",
    "print(torch.log(a))\n",
    "print(torch.log_(a))\n",
    "print(a.log())\n",
    "print(a.log_())\n"
   ]
  },
  {
   "cell_type": "code",
   "execution_count": 29,
   "id": "0bb9eb3d",
   "metadata": {},
   "outputs": [
    {
     "name": "stdout",
     "output_type": "stream",
     "text": [
      "tensor([3.1623, 1.4142])\n",
      "tensor([3.1623, 1.4142])\n",
      "tensor([1.7783, 1.1892])\n",
      "tensor([1.7783, 1.1892])\n"
     ]
    }
   ],
   "source": [
    "##sqrt\n",
    "a=torch.tensor([10,2],dtype=torch.float32)\n",
    "print(torch.sqrt(a))\n",
    "print(torch.sqrt_(a))\n",
    "print(a.sqrt())\n",
    "print(a.sqrt_())    \n",
    "\n"
   ]
  }
 ],
 "metadata": {
  "kernelspec": {
   "display_name": "torchproject",
   "language": "python",
   "name": "python3"
  },
  "language_info": {
   "codemirror_mode": {
    "name": "ipython",
    "version": 3
   },
   "file_extension": ".py",
   "mimetype": "text/x-python",
   "name": "python",
   "nbconvert_exporter": "python",
   "pygments_lexer": "ipython3",
   "version": "3.12.9"
  }
 },
 "nbformat": 4,
 "nbformat_minor": 5
}
