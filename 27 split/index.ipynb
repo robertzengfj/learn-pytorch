{
 "cells": [
  {
   "cell_type": "code",
   "execution_count": 1,
   "id": "f943548c",
   "metadata": {},
   "outputs": [],
   "source": [
    "import torch"
   ]
  },
  {
   "cell_type": "code",
   "execution_count": 3,
   "id": "3045c387",
   "metadata": {},
   "outputs": [
    {
     "data": {
      "text/plain": [
       "tensor([[0.4381, 0.0094, 0.0135, 0.6712],\n",
       "        [0.8440, 0.7473, 0.8041, 0.5846],\n",
       "        [0.3086, 0.2212, 0.4700, 0.6426]])"
      ]
     },
     "execution_count": 3,
     "metadata": {},
     "output_type": "execute_result"
    }
   ],
   "source": [
    "test=torch.rand(3,4)\n",
    "test"
   ]
  },
  {
   "cell_type": "code",
   "execution_count": 2,
   "id": "f7bf38b7",
   "metadata": {},
   "outputs": [
    {
     "data": {
      "text/plain": [
       "tensor([[0.7880, 0.3966, 0.9084, 0.0189],\n",
       "        [0.0559, 0.3199, 0.3886, 0.9910],\n",
       "        [0.8741, 0.1385, 0.7851, 0.4506]])"
      ]
     },
     "execution_count": 2,
     "metadata": {},
     "output_type": "execute_result"
    }
   ],
   "source": [
    "a=torch.rand((3,4))\n",
    "a"
   ]
  },
  {
   "cell_type": "code",
   "execution_count": 5,
   "id": "7293577b",
   "metadata": {},
   "outputs": [
    {
     "name": "stdout",
     "output_type": "stream",
     "text": [
      "(tensor([[0.7880, 0.3966, 0.9084, 0.0189],\n",
      "        [0.0559, 0.3199, 0.3886, 0.9910]]), tensor([[0.8741, 0.1385, 0.7851, 0.4506]]))\n",
      "torch.Size([2, 4])\n",
      "torch.Size([1, 4])\n"
     ]
    }
   ],
   "source": [
    "out=torch.chunk(a,2,dim=0)\n",
    "print(out)\n",
    "print(out[0].shape)\n",
    "print(out[1].shape)"
   ]
  },
  {
   "cell_type": "markdown",
   "id": "9958aba7",
   "metadata": {},
   "source": [
    "torch.split"
   ]
  },
  {
   "cell_type": "code",
   "execution_count": 9,
   "id": "cde13798",
   "metadata": {},
   "outputs": [
    {
     "name": "stdout",
     "output_type": "stream",
     "text": [
      "(tensor([[0.7880, 0.3966],\n",
      "        [0.0559, 0.3199],\n",
      "        [0.8741, 0.1385]]), tensor([[0.9084, 0.0189],\n",
      "        [0.3886, 0.9910],\n",
      "        [0.7851, 0.4506]]))\n",
      "torch.Size([3, 2])\n"
     ]
    }
   ],
   "source": [
    "out2=torch.split(a,2,dim=1)\n",
    "print(out2)\n",
    "print(out2[0].shape)"
   ]
  },
  {
   "cell_type": "code",
   "execution_count": 10,
   "id": "13982ce2",
   "metadata": {},
   "outputs": [],
   "source": [
    "out2=torch.split(a,3,dim=0)"
   ]
  },
  {
   "cell_type": "code",
   "execution_count": 11,
   "id": "125ce145",
   "metadata": {},
   "outputs": [
    {
     "data": {
      "text/plain": [
       "tensor([[0.4460, 0.6099, 0.8700, 0.6059],\n",
       "        [0.5930, 0.2394, 0.6488, 0.5360],\n",
       "        [0.5845, 0.1175, 0.5859, 0.9519],\n",
       "        [0.5137, 0.8470, 0.9140, 0.0745],\n",
       "        [0.7564, 0.4195, 0.4373, 0.8356],\n",
       "        [0.0736, 0.3076, 0.2985, 0.3600],\n",
       "        [0.0351, 0.0730, 0.2538, 0.2072],\n",
       "        [0.3462, 0.6626, 0.4955, 0.4599],\n",
       "        [0.7538, 0.0349, 0.9599, 0.9336],\n",
       "        [0.3639, 0.8122, 0.3002, 0.1343]])"
      ]
     },
     "execution_count": 11,
     "metadata": {},
     "output_type": "execute_result"
    }
   ],
   "source": [
    "s=torch.rand((10,4))\n",
    "s"
   ]
  },
  {
   "cell_type": "code",
   "execution_count": 12,
   "id": "219adf03",
   "metadata": {},
   "outputs": [
    {
     "name": "stdout",
     "output_type": "stream",
     "text": [
      "(tensor([[0.4460, 0.6099, 0.8700, 0.6059],\n",
      "        [0.5930, 0.2394, 0.6488, 0.5360],\n",
      "        [0.5845, 0.1175, 0.5859, 0.9519]]), tensor([[0.5137, 0.8470, 0.9140, 0.0745],\n",
      "        [0.7564, 0.4195, 0.4373, 0.8356],\n",
      "        [0.0736, 0.3076, 0.2985, 0.3600]]), tensor([[0.0351, 0.0730, 0.2538, 0.2072],\n",
      "        [0.3462, 0.6626, 0.4955, 0.4599],\n",
      "        [0.7538, 0.0349, 0.9599, 0.9336]]), tensor([[0.3639, 0.8122, 0.3002, 0.1343]]))\n"
     ]
    }
   ],
   "source": [
    "sout=torch.split(s,3,dim=0)\n",
    "print(sout)"
   ]
  },
  {
   "cell_type": "code",
   "execution_count": 15,
   "id": "1f503818",
   "metadata": {},
   "outputs": [
    {
     "name": "stdout",
     "output_type": "stream",
     "text": [
      "(tensor([[0.4460, 0.6099, 0.8700, 0.6059]]), tensor([[0.5930, 0.2394, 0.6488, 0.5360],\n",
      "        [0.5845, 0.1175, 0.5859, 0.9519],\n",
      "        [0.5137, 0.8470, 0.9140, 0.0745]]), tensor([[0.7564, 0.4195, 0.4373, 0.8356],\n",
      "        [0.0736, 0.3076, 0.2985, 0.3600],\n",
      "        [0.0351, 0.0730, 0.2538, 0.2072],\n",
      "        [0.3462, 0.6626, 0.4955, 0.4599],\n",
      "        [0.7538, 0.0349, 0.9599, 0.9336],\n",
      "        [0.3639, 0.8122, 0.3002, 0.1343]]))\n",
      "torch.Size([1, 4])\n",
      "torch.Size([3, 4])\n",
      "torch.Size([6, 4])\n"
     ]
    }
   ],
   "source": [
    "s2=torch.split(s,[1,3,6],dim=0)\n",
    "print(s2)\n",
    "for i in s2:\n",
    "    print(i.shape)\n"
   ]
  },
  {
   "cell_type": "code",
   "execution_count": null,
   "id": "14655621",
   "metadata": {},
   "outputs": [],
   "source": []
  }
 ],
 "metadata": {
  "kernelspec": {
   "display_name": "torchproject",
   "language": "python",
   "name": "python3"
  },
  "language_info": {
   "codemirror_mode": {
    "name": "ipython",
    "version": 3
   },
   "file_extension": ".py",
   "mimetype": "text/x-python",
   "name": "python",
   "nbconvert_exporter": "python",
   "pygments_lexer": "ipython3",
   "version": "3.12.9"
  }
 },
 "nbformat": 4,
 "nbformat_minor": 5
}
