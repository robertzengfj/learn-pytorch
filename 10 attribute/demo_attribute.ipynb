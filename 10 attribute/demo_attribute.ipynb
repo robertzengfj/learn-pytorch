{
 "cells": [
  {
   "cell_type": "code",
   "execution_count": null,
   "id": "8c5822ae",
   "metadata": {},
   "outputs": [],
   "source": [
    "#https://www.bilibili.com/video/BV1JLPaeoE4L?spm_id_from=333.788.player.switch&vd_source=cf6fc916dd58a2dc2b976206d78d5e8e&p=10\n",
    "import torch"
   ]
  },
  {
   "cell_type": "code",
   "execution_count": 3,
   "id": "3632693c",
   "metadata": {},
   "outputs": [
    {
     "name": "stdout",
     "output_type": "stream",
     "text": [
      "tensor([2., 2.])\n"
     ]
    }
   ],
   "source": [
    "dev=torch.device(\"cpu\")\n",
    "\n",
    "a=torch.tensor([2,2],\n",
    "               dtype=torch.float32,\n",
    "               device=dev)\n",
    "print(a)"
   ]
  },
  {
   "cell_type": "code",
   "execution_count": 7,
   "id": "fc0ca29d",
   "metadata": {},
   "outputs": [
    {
     "name": "stdout",
     "output_type": "stream",
     "text": [
      "tensor(indices=tensor([[0, 1, 2],\n",
      "                       [0, 1, 2]]),\n",
      "       values=tensor([1., 2., 3.]),\n",
      "       size=(4, 4), nnz=3, layout=torch.sparse_coo)\n",
      "tensor([[1., 0., 0., 0.],\n",
      "        [0., 2., 0., 0.],\n",
      "        [0., 0., 3., 0.],\n",
      "        [0., 0., 0., 0.]])\n"
     ]
    }
   ],
   "source": [
    "#定义稀疏张量\n",
    "i=torch.tensor([[0,1,2],[0,1,2]])\n",
    "v=torch.tensor([1,2,3])\n",
    "a=torch.sparse_coo_tensor(i,v,(4,4),dtype=torch.float32,device=dev)\n",
    "print(a)\n",
    "b=a.to_dense()\n",
    "print(b)"
   ]
  }
 ],
 "metadata": {
  "kernelspec": {
   "display_name": "torchproject",
   "language": "python",
   "name": "python3"
  },
  "language_info": {
   "codemirror_mode": {
    "name": "ipython",
    "version": 3
   },
   "file_extension": ".py",
   "mimetype": "text/x-python",
   "name": "python",
   "nbconvert_exporter": "python",
   "pygments_lexer": "ipython3",
   "version": "3.12.9"
  }
 },
 "nbformat": 4,
 "nbformat_minor": 5
}
