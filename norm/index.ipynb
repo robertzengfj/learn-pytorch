{
 "cells": [
  {
   "cell_type": "code",
   "execution_count": 6,
   "id": "8197c69f",
   "metadata": {},
   "outputs": [],
   "source": [
    "import torch"
   ]
  },
  {
   "cell_type": "markdown",
   "id": "71535cd3",
   "metadata": {},
   "source": [
    "https://pytorch.org/docs/stable/generated/torch.dist.html"
   ]
  },
  {
   "cell_type": "markdown",
   "id": "9a9a8751",
   "metadata": {},
   "source": [
    "Returns the p-norm of (input - other)\n",
    "\n",
    "The shapes of input and other must be broadcastable.\n",
    "\n",
    "Parameters\n",
    "input (Tensor) – the input tensor.\n",
    "\n",
    "other (Tensor) – the Right-hand-side input tensor\n",
    "\n",
    "p (float, optional) – the norm to be computed"
   ]
  },
  {
   "cell_type": "markdown",
   "id": "368893cb",
   "metadata": {},
   "source": [
    "范式就是a-b的平方再开根号，p就是p次方"
   ]
  },
  {
   "cell_type": "code",
   "execution_count": 7,
   "id": "ae24411e",
   "metadata": {},
   "outputs": [
    {
     "name": "stdout",
     "output_type": "stream",
     "text": [
      "tensor([[0.4635, 0.6717, 0.5686],\n",
      "        [0.8122, 0.8392, 0.1855]])\n",
      "tensor([[0.9498, 0.3766, 0.0460],\n",
      "        [0.2003, 0.3915, 0.6918]])\n"
     ]
    }
   ],
   "source": [
    "a=torch.rand(2,3)\n",
    "b=torch.rand(2,3)\n",
    "\n",
    "print(a)\n",
    "print(b)"
   ]
  },
  {
   "cell_type": "code",
   "execution_count": 8,
   "id": "0519e8ad",
   "metadata": {},
   "outputs": [
    {
     "data": {
      "text/plain": [
       "tensor(2.8700)"
      ]
     },
     "execution_count": 8,
     "metadata": {},
     "output_type": "execute_result"
    }
   ],
   "source": [
    "torch.dist(a,b,p=1)"
   ]
  },
  {
   "cell_type": "code",
   "execution_count": 9,
   "id": "e1e27625",
   "metadata": {},
   "outputs": [
    {
     "data": {
      "text/plain": [
       "tensor(1.1950)"
      ]
     },
     "execution_count": 9,
     "metadata": {},
     "output_type": "execute_result"
    }
   ],
   "source": [
    "torch.dist(a,b,p=2)"
   ]
  },
  {
   "cell_type": "code",
   "execution_count": 10,
   "id": "851c6299",
   "metadata": {},
   "outputs": [
    {
     "data": {
      "text/plain": [
       "tensor(0.9013)"
      ]
     },
     "execution_count": 10,
     "metadata": {},
     "output_type": "execute_result"
    }
   ],
   "source": [
    "torch.dist(a,b,p=3)"
   ]
  },
  {
   "cell_type": "code",
   "execution_count": 11,
   "id": "b5d25b88",
   "metadata": {},
   "outputs": [
    {
     "data": {
      "text/plain": [
       "tensor(1.5452)"
      ]
     },
     "execution_count": 11,
     "metadata": {},
     "output_type": "execute_result"
    }
   ],
   "source": [
    "torch.norm(a)"
   ]
  },
  {
   "cell_type": "code",
   "execution_count": 12,
   "id": "518528f5",
   "metadata": {},
   "outputs": [
    {
     "data": {
      "text/plain": [
       "tensor(1.1981)"
      ]
     },
     "execution_count": 12,
     "metadata": {},
     "output_type": "execute_result"
    }
   ],
   "source": [
    "torch.norm(a,p=3)"
   ]
  },
  {
   "cell_type": "code",
   "execution_count": null,
   "id": "7f7d0ab9",
   "metadata": {},
   "outputs": [
    {
     "data": {
      "text/plain": [
       "tensor(1.5452)"
      ]
     },
     "execution_count": 13,
     "metadata": {},
     "output_type": "execute_result"
    },
    {
     "ename": "",
     "evalue": "",
     "output_type": "error",
     "traceback": [
      "\u001b[1;31mThe Kernel crashed while executing code in the current cell or a previous cell. \n",
      "\u001b[1;31mPlease review the code in the cell(s) to identify a possible cause of the failure. \n",
      "\u001b[1;31mClick <a href='https://aka.ms/vscodeJupyterKernelCrash'>here</a> for more info. \n",
      "\u001b[1;31mView Jupyter <a href='command:jupyter.viewOutput'>log</a> for further details."
     ]
    }
   ],
   "source": [
    "torch.norm(a,p='fro')"
   ]
  }
 ],
 "metadata": {
  "kernelspec": {
   "display_name": "torchproject",
   "language": "python",
   "name": "python3"
  },
  "language_info": {
   "codemirror_mode": {
    "name": "ipython",
    "version": 3
   },
   "file_extension": ".py",
   "mimetype": "text/x-python",
   "name": "python",
   "nbconvert_exporter": "python",
   "pygments_lexer": "ipython3",
   "version": "undefined.undefined.undefined"
  }
 },
 "nbformat": 4,
 "nbformat_minor": 5
}
