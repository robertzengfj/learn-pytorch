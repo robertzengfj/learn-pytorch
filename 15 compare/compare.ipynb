{
 "cells": [
  {
   "cell_type": "code",
   "execution_count": 1,
   "id": "4eec6540",
   "metadata": {},
   "outputs": [],
   "source": [
    "import torch"
   ]
  },
  {
   "cell_type": "code",
   "execution_count": 2,
   "id": "35806f8e",
   "metadata": {},
   "outputs": [],
   "source": [
    "a=torch.rand(2,3)\n",
    "b=torch.rand(2,3)"
   ]
  },
  {
   "cell_type": "code",
   "execution_count": 3,
   "id": "4055759b",
   "metadata": {},
   "outputs": [
    {
     "data": {
      "text/plain": [
       "tensor([[False, False, False],\n",
       "        [False, False, False]])"
      ]
     },
     "execution_count": 3,
     "metadata": {},
     "output_type": "execute_result"
    }
   ],
   "source": [
    "torch.eq(a,b)"
   ]
  },
  {
   "cell_type": "code",
   "execution_count": 4,
   "id": "aa114b71",
   "metadata": {},
   "outputs": [
    {
     "data": {
      "text/plain": [
       "False"
      ]
     },
     "execution_count": 4,
     "metadata": {},
     "output_type": "execute_result"
    }
   ],
   "source": [
    "torch.equal(a,b)"
   ]
  },
  {
   "cell_type": "code",
   "execution_count": 5,
   "id": "15c74c5a",
   "metadata": {},
   "outputs": [
    {
     "data": {
      "text/plain": [
       "tensor([[False,  True, False],\n",
       "        [False,  True,  True]])"
      ]
     },
     "execution_count": 5,
     "metadata": {},
     "output_type": "execute_result"
    }
   ],
   "source": [
    "torch.ge(a,b)"
   ]
  },
  {
   "cell_type": "code",
   "execution_count": 6,
   "id": "9232c0fd",
   "metadata": {},
   "outputs": [
    {
     "data": {
      "text/plain": [
       "tensor([[False,  True, False],\n",
       "        [False,  True,  True]])"
      ]
     },
     "execution_count": 6,
     "metadata": {},
     "output_type": "execute_result"
    }
   ],
   "source": [
    "torch.gt(a,b)"
   ]
  },
  {
   "cell_type": "code",
   "execution_count": 7,
   "id": "bcca4fa9",
   "metadata": {},
   "outputs": [
    {
     "data": {
      "text/plain": [
       "tensor([[ True, False,  True],\n",
       "        [ True, False, False]])"
      ]
     },
     "execution_count": 7,
     "metadata": {},
     "output_type": "execute_result"
    }
   ],
   "source": [
    "torch.le(a,b)"
   ]
  },
  {
   "cell_type": "code",
   "execution_count": 8,
   "id": "c80fe7c1",
   "metadata": {},
   "outputs": [
    {
     "data": {
      "text/plain": [
       "tensor([[ True, False,  True],\n",
       "        [ True, False, False]])"
      ]
     },
     "execution_count": 8,
     "metadata": {},
     "output_type": "execute_result"
    }
   ],
   "source": [
    "torch.lt(a,b)"
   ]
  },
  {
   "cell_type": "code",
   "execution_count": 9,
   "id": "d210dc14",
   "metadata": {},
   "outputs": [
    {
     "data": {
      "text/plain": [
       "tensor([[True, True, True],\n",
       "        [True, True, True]])"
      ]
     },
     "execution_count": 9,
     "metadata": {},
     "output_type": "execute_result"
    }
   ],
   "source": [
    "torch.ne(a,b)"
   ]
  },
  {
   "cell_type": "code",
   "execution_count": 10,
   "id": "120bd939",
   "metadata": {},
   "outputs": [
    {
     "data": {
      "text/plain": [
       "tensor([[True, True, True],\n",
       "        [True, True, True]])"
      ]
     },
     "execution_count": 10,
     "metadata": {},
     "output_type": "execute_result"
    }
   ],
   "source": [
    "c=torch.ones(2,3)\n",
    "d=torch.ones(2,3)\n",
    "torch.eq(c,d)"
   ]
  },
  {
   "cell_type": "markdown",
   "id": "ad787468",
   "metadata": {},
   "source": [
    "不同shape,无法比较"
   ]
  },
  {
   "cell_type": "code",
   "execution_count": null,
   "id": "2f5fe68e",
   "metadata": {},
   "outputs": [
    {
     "ename": "RuntimeError",
     "evalue": "The size of tensor a (3) must match the size of tensor b (4) at non-singleton dimension 1",
     "output_type": "error",
     "traceback": [
      "\u001b[31m---------------------------------------------------------------------------\u001b[39m",
      "\u001b[31mRuntimeError\u001b[39m                              Traceback (most recent call last)",
      "\u001b[36mCell\u001b[39m\u001b[36m \u001b[39m\u001b[32mIn[12]\u001b[39m\u001b[32m, line 3\u001b[39m\n\u001b[32m      1\u001b[39m e=torch.ones(\u001b[32m2\u001b[39m,\u001b[32m3\u001b[39m)\n\u001b[32m      2\u001b[39m f=torch.ones(\u001b[32m2\u001b[39m,\u001b[32m4\u001b[39m)\n\u001b[32m----> \u001b[39m\u001b[32m3\u001b[39m \u001b[43mtorch\u001b[49m\u001b[43m.\u001b[49m\u001b[43meq\u001b[49m\u001b[43m(\u001b[49m\u001b[43me\u001b[49m\u001b[43m,\u001b[49m\u001b[43mf\u001b[49m\u001b[43m)\u001b[49m\n",
      "\u001b[31mRuntimeError\u001b[39m: The size of tensor a (3) must match the size of tensor b (4) at non-singleton dimension 1"
     ]
    }
   ],
   "source": [
    "e=torch.ones(2,3)\n",
    "f=torch.ones(2,4)\n",
    "# torch.eq(e,f)"
   ]
  },
  {
   "cell_type": "markdown",
   "id": "b3865457",
   "metadata": {},
   "source": [
    "#https://pytorch.org/docs/stable/generated/torch.sort.html"
   ]
  },
  {
   "cell_type": "code",
   "execution_count": null,
   "id": "b6d30c92",
   "metadata": {},
   "outputs": [
    {
     "name": "stdout",
     "output_type": "stream",
     "text": [
      "torch.Size([2, 5])\n"
     ]
    },
    {
     "data": {
      "text/plain": [
       "torch.return_types.sort(\n",
       "values=tensor([[1, 3, 4, 4, 5],\n",
       "        [1, 2, 3, 4, 5]]),\n",
       "indices=tensor([[0, 3, 1, 2, 4],\n",
       "        [1, 0, 2, 3, 4]]))"
      ]
     },
     "execution_count": 17,
     "metadata": {},
     "output_type": "execute_result"
    }
   ],
   "source": [
    "g=torch.tensor([[1,4,4,3,5],[2,1,3,4,5]])\n",
    "print(g.shape)\n",
    "sorted_tensor, sorted_indices = torch.sort(g, dim=1)\n",
    "print(sorted_tensor)\n",
    "print(sorted_indices)"
   ]
  },
  {
   "cell_type": "markdown",
   "id": "c9223361",
   "metadata": {},
   "source": [
    "## topk"
   ]
  },
  {
   "cell_type": "code",
   "execution_count": 27,
   "id": "4072c572",
   "metadata": {},
   "outputs": [
    {
     "name": "stdout",
     "output_type": "stream",
     "text": [
      "torch.Size([2, 5])\n"
     ]
    }
   ],
   "source": [
    "h=torch.tensor([[2,4,3,1,5],[2,3,5,1,4]])\n",
    "print(h.shape)"
   ]
  },
  {
   "cell_type": "code",
   "execution_count": 30,
   "id": "6bea6290",
   "metadata": {},
   "outputs": [
    {
     "data": {
      "text/plain": [
       "torch.return_types.topk(\n",
       "values=tensor([[2, 4, 5, 1, 5]]),\n",
       "indices=tensor([[0, 0, 1, 0, 0]]))"
      ]
     },
     "execution_count": 30,
     "metadata": {},
     "output_type": "execute_result"
    }
   ],
   "source": [
    "torch.topk(h,k=1,dim=0)"
   ]
  },
  {
   "cell_type": "code",
   "execution_count": 31,
   "id": "5b7da1ee",
   "metadata": {},
   "outputs": [
    {
     "data": {
      "text/plain": [
       "torch.return_types.topk(\n",
       "values=tensor([[5],\n",
       "        [5]]),\n",
       "indices=tensor([[4],\n",
       "        [2]]))"
      ]
     },
     "execution_count": 31,
     "metadata": {},
     "output_type": "execute_result"
    }
   ],
   "source": [
    "torch.topk(h,k=1,dim=1)"
   ]
  },
  {
   "cell_type": "code",
   "execution_count": 32,
   "id": "7f476309",
   "metadata": {},
   "outputs": [
    {
     "data": {
      "text/plain": [
       "torch.return_types.topk(\n",
       "values=tensor([[5, 4],\n",
       "        [5, 4]]),\n",
       "indices=tensor([[4, 1],\n",
       "        [2, 4]]))"
      ]
     },
     "execution_count": 32,
     "metadata": {},
     "output_type": "execute_result"
    }
   ],
   "source": [
    "torch.topk(h,k=2,dim=1)"
   ]
  },
  {
   "cell_type": "code",
   "execution_count": 34,
   "id": "bed85d81",
   "metadata": {},
   "outputs": [
    {
     "name": "stdout",
     "output_type": "stream",
     "text": [
      "torch.return_types.kthvalue(\n",
      "values=tensor([2, 4, 5, 1, 5]),\n",
      "indices=tensor([1, 0, 1, 1, 0]))\n"
     ]
    }
   ],
   "source": [
    "print(torch.kthvalue(h,k=2,dim=0))"
   ]
  },
  {
   "cell_type": "markdown",
   "id": "5ff7f839",
   "metadata": {},
   "source": [
    "#https://pytorch.org/docs/stable/generated/torch.kthvalue.html"
   ]
  },
  {
   "cell_type": "code",
   "execution_count": 40,
   "id": "5fedac9f",
   "metadata": {},
   "outputs": [
    {
     "name": "stdout",
     "output_type": "stream",
     "text": [
      "torch.return_types.kthvalue(\n",
      "values=tensor([2, 2]),\n",
      "indices=tensor([0, 0]))\n"
     ]
    }
   ],
   "source": [
    "print(torch.kthvalue(h,k=2,dim=1))"
   ]
  },
  {
   "cell_type": "markdown",
   "id": "769233e9",
   "metadata": {},
   "source": [
    "https://pytorch.org/docs/stable/generated/torch.isfinite.html\n",
    "</br>\n",
    "finite: 有限的"
   ]
  },
  {
   "cell_type": "markdown",
   "id": "3dd7e06e",
   "metadata": {},
   "source": [
    "https://pytorch.org/docs/stable/generated/torch.isinf.html\n",
    "\n",
    "infinite:无穷大"
   ]
  },
  {
   "cell_type": "code",
   "execution_count": 42,
   "id": "3b692198",
   "metadata": {},
   "outputs": [
    {
     "name": "stdout",
     "output_type": "stream",
     "text": [
      "tensor([[0.5425, 0.3321, 0.7756],\n",
      "        [0.6893, 0.5648, 0.4632]])\n",
      "tensor([[True, True, True],\n",
      "        [True, True, True]])\n",
      "tensor([[False, False, False],\n",
      "        [False, False, False]])\n",
      "tensor([[True, True, True],\n",
      "        [True, True, True]])\n",
      "tensor([[False, False, False],\n",
      "        [False, False, False]])\n"
     ]
    }
   ],
   "source": [
    "ab=torch.rand(2,3)\n",
    "print(ab)\n",
    "print(torch.isfinite(ab))\n",
    "print(torch.isfinite(ab/0))\n",
    "print(torch.isinf(ab/0))\n",
    "print(torch.isnan(ab/0))\n"
   ]
  },
  {
   "cell_type": "code",
   "execution_count": 43,
   "id": "a3624ae8",
   "metadata": {},
   "outputs": [
    {
     "name": "stdout",
     "output_type": "stream",
     "text": [
      "tensor([False, False,  True])\n"
     ]
    }
   ],
   "source": [
    "import numpy as np\n",
    "a=torch.tensor([1,2,np.nan])\n",
    "print(torch.isnan(a))"
   ]
  }
 ],
 "metadata": {
  "kernelspec": {
   "display_name": "torchproject",
   "language": "python",
   "name": "python3"
  },
  "language_info": {
   "codemirror_mode": {
    "name": "ipython",
    "version": 3
   },
   "file_extension": ".py",
   "mimetype": "text/x-python",
   "name": "python",
   "nbconvert_exporter": "python",
   "pygments_lexer": "ipython3",
   "version": "3.12.9"
  }
 },
 "nbformat": 4,
 "nbformat_minor": 5
}
