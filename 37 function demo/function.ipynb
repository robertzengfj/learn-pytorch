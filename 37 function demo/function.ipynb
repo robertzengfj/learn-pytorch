{
 "cells": [
  {
   "cell_type": "code",
   "execution_count": 1,
   "id": "23be3d75",
   "metadata": {},
   "outputs": [],
   "source": [
    "import torch"
   ]
  },
  {
   "cell_type": "code",
   "execution_count": 2,
   "id": "87aa259b",
   "metadata": {},
   "outputs": [
    {
     "name": "stdout",
     "output_type": "stream",
     "text": [
      "tensor([[0.2898, 0.7057],\n",
      "        [0.2431, 0.5273]], requires_grad=True) tensor([[0.1221, 0.4056],\n",
      "        [0.7255, 0.5990]], requires_grad=True) tensor([[0.3291, 0.7593],\n",
      "        [0.4938, 0.9975]], requires_grad=True)\n",
      "tensor([[0.1221, 0.4056],\n",
      "        [0.7255, 0.5990]]) tensor([[0.2898, 0.7057],\n",
      "        [0.2431, 0.5273]]) tensor([[1., 1.],\n",
      "        [1., 1.]])\n"
     ]
    }
   ],
   "source": [
    "class line(torch.autograd.Function):\n",
    "    @staticmethod\n",
    "    def forward(ctx,w,x,b):\n",
    "        #y=wx+b\n",
    "       ctx.save_for_backward(w,x,b)\n",
    "       return w*x+b\n",
    "       raise\n",
    "    @staticmethod\n",
    "    def backward(ctx,grad_out):\n",
    "        w,x,b=ctx.saved_tensors\n",
    "        grad_w=grad_out*x\n",
    "        grad_x=grad_out*w\n",
    "        grad_b=grad_out\n",
    "        return grad_w,grad_x,grad_b\n",
    "        \n",
    "        \n",
    "        \n",
    "w=torch.rand(2,2,requires_grad=True)\n",
    "x=torch.rand(2,2,requires_grad=True)\n",
    "b=torch.rand(2,2,requires_grad=True)\n",
    "\n",
    "out=line.apply(w,x,b)\n",
    "out.backward(torch.ones(2,2))\n",
    "print(w,x,b)\n",
    "print(w.grad,x.grad,b.grad)"
   ]
  }
 ],
 "metadata": {
  "kernelspec": {
   "display_name": "torchproject",
   "language": "python",
   "name": "python3"
  },
  "language_info": {
   "codemirror_mode": {
    "name": "ipython",
    "version": 3
   },
   "file_extension": ".py",
   "mimetype": "text/x-python",
   "name": "python",
   "nbconvert_exporter": "python",
   "pygments_lexer": "ipython3",
   "version": "3.12.9"
  }
 },
 "nbformat": 4,
 "nbformat_minor": 5
}
