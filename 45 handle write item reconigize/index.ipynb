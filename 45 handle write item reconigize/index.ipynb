{
 "cells": [
  {
   "cell_type": "code",
   "execution_count": 1,
   "id": "996859ae",
   "metadata": {},
   "outputs": [],
   "source": [
    "import torch\n",
    "import torchvision.datasets as dataset\n",
    "import torchvision.transforms as transforms\n",
    "import torch.utils.data as data_utils\n"
   ]
  },
  {
   "cell_type": "code",
   "execution_count": 2,
   "id": "8a9234f2",
   "metadata": {},
   "outputs": [],
   "source": [
    "#data\n",
    "train_data=dataset.MNIST(root=\"mnist\",train=True,transform=transforms.ToTensor(),download=True)"
   ]
  },
  {
   "cell_type": "code",
   "execution_count": 3,
   "id": "21d34baa",
   "metadata": {},
   "outputs": [],
   "source": [
    "\n",
    "test_data=dataset.MNIST(root=\"mnist\",train=False,transform=transforms.ToTensor(),download=False)"
   ]
  },
  {
   "cell_type": "code",
   "execution_count": 4,
   "id": "00aecc71",
   "metadata": {},
   "outputs": [],
   "source": [
    "#batchsize\n",
    "train_loader=data_utils.DataLoader(dataset=train_data,\n",
    "                                   batch_size=64,shuffle=True)\n",
    "\n",
    "test_loader=data_utils.DataLoader(dataset=test_data,\n",
    "                                   batch_size=64,shuffle=True)\n"
   ]
  },
  {
   "cell_type": "code",
   "execution_count": 5,
   "id": "4ee39a2d",
   "metadata": {},
   "outputs": [],
   "source": [
    "#net\n",
    "class CNN(torch.nn.Module):\n",
    "    def __init__(self):\n",
    "        super(CNN,self).__init__()\n",
    "        self.conv=torch.nn.Sequential(\n",
    "            torch.nn.Conv2d(1,32,kernel_size=5,padding=2),\n",
    "            torch.nn.BatchNorm2d(32),\n",
    "            torch.nn.ReLU(),\n",
    "            torch.nn.MaxPool2d(2)\n",
    "        )\n",
    "        self.fc=torch.nn.Linear(14*14*32,10)\n",
    "    def forward(self,x):\n",
    "        out=self.conv(x)\n",
    "        out=out.view(out.size()[0],-1)\n",
    "        out=self.fc(out)\n",
    "        return out\n",
    "    \n",
    "    \n",
    "            \n",
    "        \n",
    "        "
   ]
  },
  {
   "cell_type": "code",
   "execution_count": 6,
   "id": "98b237a5",
   "metadata": {},
   "outputs": [
    {
     "ename": "TypeError",
     "evalue": "'method' object is not iterable",
     "output_type": "error",
     "traceback": [
      "\u001b[31m---------------------------------------------------------------------------\u001b[39m",
      "\u001b[31mTypeError\u001b[39m                                 Traceback (most recent call last)",
      "\u001b[36mCell\u001b[39m\u001b[36m \u001b[39m\u001b[32mIn[6]\u001b[39m\u001b[32m, line 8\u001b[39m\n\u001b[32m      5\u001b[39m loss_func=torch.nn.CrossEntropyLoss()\n\u001b[32m      7\u001b[39m \u001b[38;5;66;03m#optimizer\u001b[39;00m\n\u001b[32m----> \u001b[39m\u001b[32m8\u001b[39m optimizer=\u001b[43mtorch\u001b[49m\u001b[43m.\u001b[49m\u001b[43moptim\u001b[49m\u001b[43m.\u001b[49m\u001b[43mAdam\u001b[49m\u001b[43m(\u001b[49m\u001b[43mcnn\u001b[49m\u001b[43m.\u001b[49m\u001b[43mparameters\u001b[49m\u001b[43m,\u001b[49m\u001b[43mlr\u001b[49m\u001b[43m=\u001b[49m\u001b[32;43m0.01\u001b[39;49m\u001b[43m)\u001b[49m\n\u001b[32m     10\u001b[39m \u001b[38;5;66;03m#training\u001b[39;00m\n\u001b[32m     11\u001b[39m \u001b[38;5;28;01mfor\u001b[39;00m epoch \u001b[38;5;129;01min\u001b[39;00m \u001b[38;5;28mrange\u001b[39m(\u001b[32m10\u001b[39m):\n",
      "\u001b[36mFile \u001b[39m\u001b[32me:\\anaconda3\\envs\\torchproject\\Lib\\site-packages\\torch\\optim\\adam.py:99\u001b[39m, in \u001b[36mAdam.__init__\u001b[39m\u001b[34m(self, params, lr, betas, eps, weight_decay, amsgrad, foreach, maximize, capturable, differentiable, fused)\u001b[39m\n\u001b[32m     85\u001b[39m         \u001b[38;5;28;01mraise\u001b[39;00m \u001b[38;5;167;01mValueError\u001b[39;00m(\u001b[33m\"\u001b[39m\u001b[33mTensor betas[1] must be 1-element\u001b[39m\u001b[33m\"\u001b[39m)\n\u001b[32m     87\u001b[39m defaults = \u001b[38;5;28mdict\u001b[39m(\n\u001b[32m     88\u001b[39m     lr=lr,\n\u001b[32m     89\u001b[39m     betas=betas,\n\u001b[32m   (...)\u001b[39m\u001b[32m     97\u001b[39m     fused=fused,\n\u001b[32m     98\u001b[39m )\n\u001b[32m---> \u001b[39m\u001b[32m99\u001b[39m \u001b[38;5;28;43msuper\u001b[39;49m\u001b[43m(\u001b[49m\u001b[43m)\u001b[49m\u001b[43m.\u001b[49m\u001b[34;43m__init__\u001b[39;49m\u001b[43m(\u001b[49m\u001b[43mparams\u001b[49m\u001b[43m,\u001b[49m\u001b[43m \u001b[49m\u001b[43mdefaults\u001b[49m\u001b[43m)\u001b[49m\n\u001b[32m    101\u001b[39m \u001b[38;5;28;01mif\u001b[39;00m fused:\n\u001b[32m    102\u001b[39m     \u001b[38;5;28;01mif\u001b[39;00m differentiable:\n",
      "\u001b[36mFile \u001b[39m\u001b[32me:\\anaconda3\\envs\\torchproject\\Lib\\site-packages\\torch\\optim\\optimizer.py:370\u001b[39m, in \u001b[36mOptimizer.__init__\u001b[39m\u001b[34m(self, params, defaults)\u001b[39m\n\u001b[32m    367\u001b[39m \u001b[38;5;28mself\u001b[39m.state: DefaultDict[torch.Tensor, Any] = defaultdict(\u001b[38;5;28mdict\u001b[39m)\n\u001b[32m    368\u001b[39m \u001b[38;5;28mself\u001b[39m.param_groups: List[Dict[\u001b[38;5;28mstr\u001b[39m, Any]] = []\n\u001b[32m--> \u001b[39m\u001b[32m370\u001b[39m param_groups = \u001b[38;5;28;43mlist\u001b[39;49m\u001b[43m(\u001b[49m\u001b[43mparams\u001b[49m\u001b[43m)\u001b[49m\n\u001b[32m    371\u001b[39m \u001b[38;5;28;01mif\u001b[39;00m \u001b[38;5;28mlen\u001b[39m(param_groups) == \u001b[32m0\u001b[39m:\n\u001b[32m    372\u001b[39m     \u001b[38;5;28;01mraise\u001b[39;00m \u001b[38;5;167;01mValueError\u001b[39;00m(\u001b[33m\"\u001b[39m\u001b[33moptimizer got an empty parameter list\u001b[39m\u001b[33m\"\u001b[39m)\n",
      "\u001b[31mTypeError\u001b[39m: 'method' object is not iterable"
     ]
    }
   ],
   "source": [
    "cnn=CNN()\n",
    "# cnn=cnn.cuda\n",
    "\n",
    "#loss\n",
    "loss_func=torch.nn.CrossEntropyLoss()\n",
    "\n",
    "#optimizer\n",
    "optimizer=torch.optim.Adam(cnn.parameters,lr=0.01)\n",
    "\n",
    "#training\n",
    "for epoch in range(10):\n",
    "    for i,(images,labels) in enumerate(train_loader):\n",
    "        # images=images.cuda()\n",
    "        # labels=labels.cuda() \n",
    "        \n",
    "        outputs=cnn(images)\n",
    "        loss=loss_func(outputs,labels)\n",
    "        optimizer.zero_grad() #优化参数\n",
    "        loss.backward()\n",
    "        optimizer.step()\n",
    "        print(\"epoch is {},ite is {},loss is {}\".format(epoch+1,len(train_data)//64,loss.item()))\n",
    "\n"
   ]
  },
  {
   "cell_type": "code",
   "execution_count": null,
   "id": "08521b08",
   "metadata": {},
   "outputs": [],
   "source": [
    "loss_test=0\n",
    "accuracy=0"
   ]
  },
  {
   "cell_type": "code",
   "execution_count": null,
   "id": "018ee96a",
   "metadata": {},
   "outputs": [],
   "source": [
    "for i,(images,labels) in enumerate(test_loader):\n",
    "     # images=images.cuda()\n",
    "        # labels=labels.cuda() \n",
    "        \n",
    "        outputs=cnn(images)\n",
    "        loss_test=loss_func(outputs,labels)\n",
    "        _,pred=outputs.max(1)\n",
    "        accuracy+=(pred==labels).sum().item()\n",
    "accuracy=accuracy/len(test_data)\n",
    "loss_test=loss_test/(len(test_data)//64)\n"
   ]
  }
 ],
 "metadata": {
  "kernelspec": {
   "display_name": "torchproject",
   "language": "python",
   "name": "python3"
  },
  "language_info": {
   "codemirror_mode": {
    "name": "ipython",
    "version": 3
   },
   "file_extension": ".py",
   "mimetype": "text/x-python",
   "name": "python",
   "nbconvert_exporter": "python",
   "pygments_lexer": "ipython3",
   "version": "3.12.9"
  }
 },
 "nbformat": 4,
 "nbformat_minor": 5
}
