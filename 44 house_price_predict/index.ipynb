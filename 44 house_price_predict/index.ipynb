{
 "cells": [
  {
   "cell_type": "code",
   "execution_count": null,
   "id": "200b33be",
   "metadata": {},
   "outputs": [],
   "source": [
    "# house price data source http://t.cn/RfHTAgY\n",
    "# https://archive.ics.uci.edu/ml/machine-learning-databases/housing/housing.data\n",
    "\n",
    "# handle writer character identify\n",
    "# data source\n",
    "# http://yann.lecun.com/exdb/mnist/"
   ]
  },
  {
   "cell_type": "code",
   "execution_count": 1,
   "id": "b266d620",
   "metadata": {},
   "outputs": [],
   "source": [
    "import wget\n",
    "import os"
   ]
  },
  {
   "cell_type": "code",
   "execution_count": 2,
   "id": "201d4878",
   "metadata": {},
   "outputs": [
    {
     "name": "stdout",
     "output_type": "stream",
     "text": [
      "Downloading housing data from https://archive.ics.uci.edu/ml/machine-learning-databases/housing/housing.data...\n",
      "\n",
      "Download complete!\n"
     ]
    }
   ],
   "source": [
    "url = \"https://archive.ics.uci.edu/ml/machine-learning-databases/housing/housing.data\"\n",
    "output_path = \"./housing.data\"\n",
    "\n",
    "# Check if the file already exists\n",
    "if not os.path.exists(output_path):\n",
    "    print(f\"Downloading housing data from {url}...\")\n",
    "    wget.download(url, output_path)\n",
    "    print(\"\\nDownload complete!\")\n",
    "else:\n",
    "    print(f\"File {output_path} already exists.\")"
   ]
  },
  {
   "cell_type": "code",
   "execution_count": null,
   "id": "e02a6965",
   "metadata": {},
   "outputs": [],
   "source": []
  }
 ],
 "metadata": {
  "kernelspec": {
   "display_name": "torchproject",
   "language": "python",
   "name": "python3"
  },
  "language_info": {
   "codemirror_mode": {
    "name": "ipython",
    "version": 3
   },
   "file_extension": ".py",
   "mimetype": "text/x-python",
   "name": "python",
   "nbconvert_exporter": "python",
   "pygments_lexer": "ipython3",
   "version": "3.12.9"
  }
 },
 "nbformat": 4,
 "nbformat_minor": 5
}
